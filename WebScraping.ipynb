{
 "cells": [
  {
   "cell_type": "code",
   "execution_count": 13,
   "id": "6f4654f1",
   "metadata": {},
   "outputs": [],
   "source": [
    "import requests, bs4, selenium, time\n",
    "from selenium import webdriver"
   ]
  },
  {
   "cell_type": "code",
   "execution_count": 15,
   "id": "d59182ba-56b7-4653-9982-4619fe7170aa",
   "metadata": {},
   "outputs": [
    {
     "name": "stderr",
     "output_type": "stream",
     "text": [
      "C:\\Users\\Lenovo\\AppData\\Local\\Temp/ipykernel_18484/3865248611.py:6: DeprecationWarning: executable_path has been deprecated, please pass in a Service object\n",
      "  driver = webdriver.Chrome(PATH)\n"
     ]
    },
    {
     "name": "stdout",
     "output_type": "stream",
     "text": [
      "https://ocw.mit.edu/courses/1-018j-ecology-i-the-earth-system-fall-2009/\n",
      "https://ocw.mit.edu/courses/1-033-mechanics-of-material-systems-an-energy-approach-fall-2003/\n",
      "https://ocw.mit.edu/courses/1-020-ecology-ii-engineering-for-sustainability-spring-2008/\n",
      "https://ocw.mit.edu/courses/1-017-computing-and-data-analysis-for-environmental-applications-fall-2003/\n",
      "https://ocw.mit.edu/courses/1-022-introduction-to-network-models-fall-2018/\n",
      "https://ocw.mit.edu/courses/1-011-project-evaluation-spring-2011/\n",
      "https://ocw.mit.edu/courses/1-040-project-management-spring-2004/\n",
      "https://ocw.mit.edu/courses/1-00-introduction-to-computers-and-engineering-problem-solving-spring-2012/\n",
      "https://ocw.mit.edu/courses/1-010-uncertainty-in-engineering-fall-2008/\n",
      "https://ocw.mit.edu/courses/1-012-introduction-to-civil-engineering-design-spring-2002/\n",
      "10\n"
     ]
    }
   ],
   "source": [
    "urlfine = \"https://ocw.mit.edu/courses/wgs-s10-history-of-women-in-science-and-engineering-fall-2017/\"\n",
    "url = 'https://ocw.mit.edu/search/?s=department_course_numbers.sort_coursenum'\n",
    "pref=\"https://ocw.mit.edu\"\n",
    "#fineurl = 'https://ocw.mit.edu/courses/1-34-waste-containment-and-remediation-technology-spring-2004/'\n",
    "PATH = './driver/chromedriver.exe'\n",
    "driver = webdriver.Chrome(PATH)\n",
    "driver.get(url)\n",
    "time.sleep(5)\n",
    "html = driver.page_source\n",
    "ntot = int(bs4.BeautifulSoup(html, 'html.parser').find_all(\"span\", {\"class\" : \"results-total-number\"})[0].text)\n",
    "oldlinks=[]\n",
    "f = open('res_dataset.csv', 'wt')\n",
    "f.write(\"id;link;disciplines;keywords;title;description;type;language;difficulty;format;duration;public;min_age;max_age\\n\")\n",
    "f.close()\n",
    "f=open('res_dataset.csv', 'a')\n",
    "while ntot>len(oldlinks)+2630:\n",
    "    html = driver.page_source\n",
    "    links = set([l for l in bs4.BeautifulSoup(html, 'html.parser').find_all(\"a\", {\"class\" : \"w-100\"}) if not (l in oldlinks)])\n",
    "    for s in links:\n",
    "        #datacollector(\"https://ocw.mit.edu\" + s.attrs[\"href\"], f)\n",
    "        print(pref+s.attrs[\"href\"])\n",
    "    driver.execute_script(\"window.scrollBy(0,500)\")\n",
    "    oldlinks=oldlinks + [l for l in links if not (l in oldlinks)]\n",
    "driver.quit()\n",
    "f.close()\n",
    "print(len(oldlinks))"
   ]
  },
  {
   "cell_type": "code",
   "execution_count": null,
   "id": "8127795e-29a9-4195-8c55-895695cc90e6",
   "metadata": {},
   "outputs": [],
   "source": []
  }
 ],
 "metadata": {
  "kernelspec": {
   "display_name": "Python 3 (ipykernel)",
   "language": "python",
   "name": "python3"
  },
  "language_info": {
   "codemirror_mode": {
    "name": "ipython",
    "version": 3
   },
   "file_extension": ".py",
   "mimetype": "text/x-python",
   "name": "python",
   "nbconvert_exporter": "python",
   "pygments_lexer": "ipython3",
   "version": "3.9.7"
  }
 },
 "nbformat": 4,
 "nbformat_minor": 5
}
