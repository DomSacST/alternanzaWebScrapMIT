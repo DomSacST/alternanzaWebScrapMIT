{
 "cells": [
  {
   "cell_type": "code",
   "execution_count": 94,
   "id": "dbde265a-eb86-4276-9953-d0a8ff8da99b",
   "metadata": {},
   "outputs": [],
   "source": [
    "import requests, bs4, selenium\n",
    "from selenium import webdriver\n",
    "link = [\"https://ocw.mit.edu/courses/11-s940-development-planning-and-implementation-the-dialectic-of-theory-and-practice-fall-2015/\", \"https://ocw.mit.edu/courses/11-s955-the-sustainability-response-to-covid-19-january-iap-2021/\", \"https://ocw.mit.edu/courses/12-007-geobiology-spring-2013/\", \"https://ocw.mit.edu/courses/16-810-engineering-design-and-rapid-prototyping-january-iap-2007/\"]"
   ]
  },
  {
   "cell_type": "code",
   "execution_count": 97,
   "id": "fd6ba4cb-ce40-4682-9499-8dd87c363965",
   "metadata": {},
   "outputs": [
    {
     "name": "stderr",
     "output_type": "stream",
     "text": [
      "C:\\Users\\mirco\\AppData\\Local\\Temp/ipykernel_11564/742569376.py:2: DeprecationWarning: executable_path has been deprecated, please pass in a Service object\n",
      "  driver = webdriver.Chrome(PATH)\n"
     ]
    },
    {
     "name": "stdout",
     "output_type": "stream",
     "text": [
      "Social Science>Public Administration\n",
      "Social Science>Sociology>Community Development\n",
      "Social Science>Urban Studies\n",
      "Social Science>Urban Studies>Regional Planning\n",
      "Social Science>Urban Studies>Urban Planning\n",
      "Energy>Transportation\n",
      "Health and Medicine>Public Health\n",
      "Social Science>Urban Studies>Transportation Planning\n",
      "Science>Earth Science>Geobiology\n",
      "Engineering>Systems Engineering>Computational Modeling and Simulation\n",
      "Engineering>Mechanical Engineering>Mechanical Design\n",
      "Engineering>Systems Engineering>Systems Optimization\n",
      "Engineering>Aerospace Engineering>Aerodynamics\n",
      "Engineering>Aerospace Engineering>Structural Mechanics\n"
     ]
    }
   ],
   "source": [
    "PATH = './driver/chromedriver.exe'\n",
    "driver = webdriver.Chrome(PATH)\n",
    "headers = {\n",
    "    'User-Agent': 'Mozilla/5.0 (Windows NT 10.0; Win64; x64) AppleWebKit/537.36 (KHTML, like Gecko) Chrome/99.0.4844.82 Safari/537.36'\n",
    "}\n",
    "for i in link:\n",
    "    driver.get(i)\n",
    "    html = driver.page_source\n",
    "    d = bs4.BeautifulSoup(html, \"html.parser\").find_all(\"div\", {\"id\" : \"course-description\"})[0].text\n",
    "    lvl = bs4.BeautifulSoup(html, \"html.parser\").find_all(\"a\", {\"class\" : \"course-info-level\"})[0].text\n",
    "    tit = bs4.BeautifulSoup(html, \"html.parser\").find_all(\"a\", {\"class\" : \"text-uppercase display-4 font-weight-bold m-0 text-white\"})[0].text\n",
    "    idl = bs4.BeautifulSoup(html, \"html.parser\").find_all(\"ul\", {\"class\" : \"list-unstyled m-0\"})[1]\n",
    "    t = bs4.BeautifulSoup(html, \"html.parser\").find_all(\"table\", {\"id\" : \"course-info-table\"})\n",
    "    for c in t:\n",
    "        for a in c.find_all(\"ul\", {\"class\" : \"list-unstyled pb-2 m-0\"}):\n",
    "            for g in a.find_all(\"li\"):\n",
    "                print(g.text.replace(\"\\n\", \"\").replace (\"      >          \", \">\"))"
   ]
  },
  {
   "cell_type": "code",
   "execution_count": 80,
   "id": "430200e1-0b4b-45cd-b58c-fb1a5e3f3713",
   "metadata": {},
   "outputs": [],
   "source": [
    "class CourseInfo:\n",
    "    nome=\"\"\n",
    "    idN=\"\"\n",
    "    link=\"\"\n",
    "    difficulty=\"\"\n",
    "    min_age=0\n",
    "    max_age=0\n",
    "    desc=\"\"\n",
    "    discip={}"
   ]
  },
  {
   "cell_type": "code",
   "execution_count": null,
   "id": "49802b6e-6339-4427-bb15-5f19eac28537",
   "metadata": {},
   "outputs": [],
   "source": []
  }
 ],
 "metadata": {
  "kernelspec": {
   "display_name": "Python 3 (ipykernel)",
   "language": "python",
   "name": "python3"
  },
  "language_info": {
   "codemirror_mode": {
    "name": "ipython",
    "version": 3
   },
   "file_extension": ".py",
   "mimetype": "text/x-python",
   "name": "python",
   "nbconvert_exporter": "python",
   "pygments_lexer": "ipython3",
   "version": "3.9.7"
  }
 },
 "nbformat": 4,
 "nbformat_minor": 5
}
