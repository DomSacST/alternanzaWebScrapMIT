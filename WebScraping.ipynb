{
 "cells": [
  {
   "cell_type": "code",
   "execution_count": 36,
   "id": "dbde265a-eb86-4276-9953-d0a8ff8da99b",
   "metadata": {},
   "outputs": [],
   "source": [
    "import requests, bs4, selenium\n",
    "from PyPDF2 import PdfFileReader\n",
    "from selenium import webdriver\n",
    "#link = [\"https://ocw.mit.edu/courses/11-s940-development-planning-and-implementation-the-dialectic-of-theory-and-practice-fall-2015/\", \"https://ocw.mit.edu/courses/11-s955-the-sustainability-response-to-covid-19-january-iap-2021/\", \"https://ocw.mit.edu/courses/12-007-geobiology-spring-2013/\", \"https://ocw.mit.edu/courses/16-810-engineering-design-and-rapid-prototyping-january-iap-2007/\"]"
   ]
  },
  {
   "cell_type": "code",
   "execution_count": 8,
   "id": "05027a1c-0b8f-4f8b-8647-276304d23123",
   "metadata": {},
   "outputs": [],
   "source": [
    "PATH = './driver/chromedriver.exe'\n",
    "headers = {\n",
    "    'User-Agent': 'Mozilla/5.0 (Windows NT 10.0; Win64; x64) AppleWebKit/537.36 (KHTML, like Gecko) Chrome/99.0.4844.82 Safari/537.36'\n",
    "}\n",
    "pref = 'https://ocw.mit.edu'"
   ]
  },
  {
   "cell_type": "code",
   "execution_count": 9,
   "id": "24878cb9-183e-4c0e-9c1b-953da6a65a26",
   "metadata": {},
   "outputs": [],
   "source": [
    "class CourseRes:\n",
    "    formato=\"\"\n",
    "    typeR=\"\"\n",
    "    nome=\"\"\n",
    "    link=\"\"\n",
    "    durata=\"\"\n",
    "\n",
    "    def __init__(self, nome, link):\n",
    "        self.nome=nome\n",
    "        self.formato=\"pdf\"\n",
    "        self.typeR=\"presentazione\"\n",
    "        self.link=link\n",
    "\n",
    "    def toString(self):\n",
    "        return \"{} {}.{} in {}\".format(self.typeR, self.nome, self.formato, self.link)\n",
    "\n",
    "class CourseInfo:\n",
    "    nome=\"\"\n",
    "    idN=\"\"\n",
    "    link=\"\"\n",
    "    kywTit=\"\"\n",
    "    difficulty=\"\"\n",
    "    res=[] # type CourseRes\n",
    "    min_age=0\n",
    "    max_age=0\n",
    "    desc=\"\"\n",
    "    discip=\"\"\n",
    "    pubblico=[]\n",
    "\n",
    "    def __init__(self, link, name, idl, difficulty, topic, desc):\n",
    "        self.discip=topic\n",
    "        self.link=link\n",
    "        self.nome=name\n",
    "        self.idN=idl\n",
    "        self.difficulty=difficulty\n",
    "        self.desc=desc\n",
    "        if \"undergraduate\" in difficulty.lower():\n",
    "            self.pubblico = ['Middle School', 'High School']\n",
    "            self.min_age=11\n",
    "            self.max_age=18\n",
    "        else:\n",
    "            self.pubblico = ['College General Ed', 'Graduate School', 'Professional']\n",
    "            self.min_age=19\n",
    "            self.max_age=100\n",
    "\n",
    "\n",
    "    #difficulty: graduate=medio alta, undergraduate=media\n",
    "    #formato: lecture notes=pdf, assignments=pdf, \n",
    "    #durata: slidex2 = minuti {[0-30]...[120+]}, \n",
    "    #pubblico: undergrad=['Middle School', 'High School'], graduate=['College General Ed', 'Graduate School', 'Professional]\n",
    "    #type: lecture notes=presentation, assignments=Quiz/Test, \n",
    "    #min_age: undergrad=11, grad=19, max_age: undergrad=18, grad=100\n",
    "\n",
    "    def printInCSV(self, file):\n",
    "        for attr in self.__dict__:\n",
    "            item = self.__dict__[attr]\n",
    "            if not type(item) is list:\n",
    "                file.write(\"{};\".format(item))\n",
    "            else:\n",
    "                if isinstance(item[0], CourseRes):\n",
    "                    file.write(\"{};\".format([r.toString() for r in item]))\n",
    "                else:\n",
    "                    file.write(\"{};\".format(item))\n",
    "        file.write(\"\\n\")"
   ]
  },
  {
   "cell_type": "code",
   "execution_count": 12,
   "id": "fc2a4ded-78cd-48de-a792-f5080e99392e",
   "metadata": {},
   "outputs": [],
   "source": [
    "def datacollector (link):\n",
    "    driver = webdriver.Chrome(PATH)\n",
    "    driver.get(link)\n",
    "    html = driver.page_source\n",
    "    d = bs4.BeautifulSoup(html, \"html.parser\").find_all(\"div\", {\"id\" : \"course-description\"})[0].text.replace(\"\\n\", \" \")\n",
    "    lvl = bs4.BeautifulSoup(html, \"html.parser\").find_all(\"a\", {\"class\" : \"course-info-level\"})[0].text.replace(\" \", \"\").replace(\"\\n\", \"\")\n",
    "    tit = bs4.BeautifulSoup(html, \"html.parser\").find_all(\"a\", {\"class\" : \"text-uppercase display-4 font-weight-bold m-0 text-white\"})[0].text.replace(\"\\n\", \"\")\n",
    "    idl = bs4.BeautifulSoup(html, \"html.parser\").find_all(\"ul\", {\"class\" : \"list-unstyled m-0\"})[1].text.replace(\" \", \"\").replace(\"\\n\", \"\")\n",
    "    t = bs4.BeautifulSoup(html, \"html.parser\").find_all(\"table\", {\"id\" : \"course-info-table\"})\n",
    "    topic = \"\"\n",
    "    for c in t:\n",
    "        for a in c.find_all(\"ul\", {\"class\" : \"list-unstyled pb-2 m-0\"}):\n",
    "            for g in a.find_all(\"li\"):\n",
    "                topic += g.text.replace(\"\\n\", \"\").replace (\"      >          \", \"/\")\n",
    "    course = CourseInfo(link, tit, idl, lvl, topic, d)\n",
    "    driver.quit()\n",
    "    course.res = getCoursePDF(link+\"pages/lecture-notes/\") \n",
    "    return course"
   ]
  },
  {
   "cell_type": "code",
   "execution_count": 29,
   "id": "d2366b99-0719-4c18-844d-3617aba3e692",
   "metadata": {},
   "outputs": [
    {
     "name": "stderr",
     "output_type": "stream",
     "text": [
      "DeprecationWarning: executable_path has been deprecated, please pass in a Service object [1591954720.py:3]\n"
     ]
    },
    {
     "ename": "PdfReadError",
     "evalue": "EOF marker not found",
     "output_type": "error",
     "traceback": [
      "\u001b[1;31m---------------------------------------------------------------------------\u001b[0m",
      "\u001b[1;31mPdfReadError\u001b[0m                              Traceback (most recent call last)",
      "\u001b[1;32m~\\AppData\\Local\\Temp/ipykernel_8028/1591954720.py\u001b[0m in \u001b[0;36m<module>\u001b[1;34m\u001b[0m\n\u001b[0;32m     31\u001b[0m     \u001b[1;32mreturn\u001b[0m \u001b[0mcourseRes\u001b[0m\u001b[1;33m\u001b[0m\u001b[1;33m\u001b[0m\u001b[0m\n\u001b[0;32m     32\u001b[0m \u001b[1;33m\u001b[0m\u001b[0m\n\u001b[1;32m---> 33\u001b[1;33m \u001b[0mls\u001b[0m \u001b[1;33m=\u001b[0m \u001b[0mgetCoursePDF\u001b[0m\u001b[1;33m(\u001b[0m\u001b[1;34m'https://ocw.mit.edu/courses/16-810-engineering-design-and-rapid-prototyping-january-iap-2007/pages/lecture-notes/'\u001b[0m\u001b[1;33m)\u001b[0m\u001b[1;33m\u001b[0m\u001b[1;33m\u001b[0m\u001b[0m\n\u001b[0m\u001b[0;32m     34\u001b[0m \u001b[1;32mfor\u001b[0m \u001b[0mi\u001b[0m \u001b[1;32min\u001b[0m \u001b[0mls\u001b[0m\u001b[1;33m:\u001b[0m\u001b[1;33m\u001b[0m\u001b[1;33m\u001b[0m\u001b[0m\n\u001b[0;32m     35\u001b[0m     \u001b[0mprint\u001b[0m\u001b[1;33m(\u001b[0m\u001b[0mi\u001b[0m\u001b[1;33m.\u001b[0m\u001b[0mtoString\u001b[0m\u001b[1;33m(\u001b[0m\u001b[1;33m)\u001b[0m\u001b[1;33m)\u001b[0m\u001b[1;33m\u001b[0m\u001b[1;33m\u001b[0m\u001b[0m\n",
      "\u001b[1;32m~\\AppData\\Local\\Temp/ipykernel_8028/1591954720.py\u001b[0m in \u001b[0;36mgetCoursePDF\u001b[1;34m(link)\u001b[0m\n\u001b[0;32m     18\u001b[0m \u001b[1;33m\u001b[0m\u001b[0m\n\u001b[0;32m     19\u001b[0m                 \u001b[0mopen_pdf_file\u001b[0m \u001b[1;33m=\u001b[0m \u001b[0mopen\u001b[0m\u001b[1;33m(\u001b[0m\u001b[1;34m\"my_pdf.pdf\"\u001b[0m\u001b[1;33m,\u001b[0m \u001b[1;34m'rb'\u001b[0m\u001b[1;33m)\u001b[0m\u001b[1;33m\u001b[0m\u001b[1;33m\u001b[0m\u001b[0m\n\u001b[1;32m---> 20\u001b[1;33m                 \u001b[0mread_pdf\u001b[0m \u001b[1;33m=\u001b[0m \u001b[0mPyPDF2\u001b[0m\u001b[1;33m.\u001b[0m\u001b[0mPdfFileReader\u001b[0m\u001b[1;33m(\u001b[0m\u001b[0mopen_pdf_file\u001b[0m\u001b[1;33m)\u001b[0m\u001b[1;33m\u001b[0m\u001b[1;33m\u001b[0m\u001b[0m\n\u001b[0m\u001b[0;32m     21\u001b[0m                 \u001b[1;32mif\u001b[0m \u001b[0mread_pdf\u001b[0m\u001b[1;33m.\u001b[0m\u001b[0misEncrypted\u001b[0m\u001b[1;33m:\u001b[0m\u001b[1;33m\u001b[0m\u001b[1;33m\u001b[0m\u001b[0m\n\u001b[0;32m     22\u001b[0m                     \u001b[0mread_pdf\u001b[0m\u001b[1;33m.\u001b[0m\u001b[0mdecrypt\u001b[0m\u001b[1;33m(\u001b[0m\u001b[1;34m\"\"\u001b[0m\u001b[1;33m)\u001b[0m\u001b[1;33m\u001b[0m\u001b[1;33m\u001b[0m\u001b[0m\n",
      "\u001b[1;32m~\\anaconda3\\lib\\site-packages\\PyPDF2\\pdf.py\u001b[0m in \u001b[0;36m__init__\u001b[1;34m(self, stream, strict, warndest, overwriteWarnings)\u001b[0m\n\u001b[0;32m   1082\u001b[0m             \u001b[0mstream\u001b[0m \u001b[1;33m=\u001b[0m \u001b[0mBytesIO\u001b[0m\u001b[1;33m(\u001b[0m\u001b[0mb_\u001b[0m\u001b[1;33m(\u001b[0m\u001b[0mfileobj\u001b[0m\u001b[1;33m.\u001b[0m\u001b[0mread\u001b[0m\u001b[1;33m(\u001b[0m\u001b[1;33m)\u001b[0m\u001b[1;33m)\u001b[0m\u001b[1;33m)\u001b[0m\u001b[1;33m\u001b[0m\u001b[1;33m\u001b[0m\u001b[0m\n\u001b[0;32m   1083\u001b[0m             \u001b[0mfileobj\u001b[0m\u001b[1;33m.\u001b[0m\u001b[0mclose\u001b[0m\u001b[1;33m(\u001b[0m\u001b[1;33m)\u001b[0m\u001b[1;33m\u001b[0m\u001b[1;33m\u001b[0m\u001b[0m\n\u001b[1;32m-> 1084\u001b[1;33m         \u001b[0mself\u001b[0m\u001b[1;33m.\u001b[0m\u001b[0mread\u001b[0m\u001b[1;33m(\u001b[0m\u001b[0mstream\u001b[0m\u001b[1;33m)\u001b[0m\u001b[1;33m\u001b[0m\u001b[1;33m\u001b[0m\u001b[0m\n\u001b[0m\u001b[0;32m   1085\u001b[0m         \u001b[0mself\u001b[0m\u001b[1;33m.\u001b[0m\u001b[0mstream\u001b[0m \u001b[1;33m=\u001b[0m \u001b[0mstream\u001b[0m\u001b[1;33m\u001b[0m\u001b[1;33m\u001b[0m\u001b[0m\n\u001b[0;32m   1086\u001b[0m \u001b[1;33m\u001b[0m\u001b[0m\n",
      "\u001b[1;32m~\\anaconda3\\lib\\site-packages\\PyPDF2\\pdf.py\u001b[0m in \u001b[0;36mread\u001b[1;34m(self, stream)\u001b[0m\n\u001b[0;32m   1694\u001b[0m         \u001b[1;32mwhile\u001b[0m \u001b[0mline\u001b[0m\u001b[1;33m[\u001b[0m\u001b[1;33m:\u001b[0m\u001b[1;36m5\u001b[0m\u001b[1;33m]\u001b[0m \u001b[1;33m!=\u001b[0m \u001b[0mb_\u001b[0m\u001b[1;33m(\u001b[0m\u001b[1;34m\"%%EOF\"\u001b[0m\u001b[1;33m)\u001b[0m\u001b[1;33m:\u001b[0m\u001b[1;33m\u001b[0m\u001b[1;33m\u001b[0m\u001b[0m\n\u001b[0;32m   1695\u001b[0m             \u001b[1;32mif\u001b[0m \u001b[0mstream\u001b[0m\u001b[1;33m.\u001b[0m\u001b[0mtell\u001b[0m\u001b[1;33m(\u001b[0m\u001b[1;33m)\u001b[0m \u001b[1;33m<\u001b[0m \u001b[0mlast1K\u001b[0m\u001b[1;33m:\u001b[0m\u001b[1;33m\u001b[0m\u001b[1;33m\u001b[0m\u001b[0m\n\u001b[1;32m-> 1696\u001b[1;33m                 \u001b[1;32mraise\u001b[0m \u001b[0mutils\u001b[0m\u001b[1;33m.\u001b[0m\u001b[0mPdfReadError\u001b[0m\u001b[1;33m(\u001b[0m\u001b[1;34m\"EOF marker not found\"\u001b[0m\u001b[1;33m)\u001b[0m\u001b[1;33m\u001b[0m\u001b[1;33m\u001b[0m\u001b[0m\n\u001b[0m\u001b[0;32m   1697\u001b[0m             \u001b[0mline\u001b[0m \u001b[1;33m=\u001b[0m \u001b[0mself\u001b[0m\u001b[1;33m.\u001b[0m\u001b[0mreadNextEndLine\u001b[0m\u001b[1;33m(\u001b[0m\u001b[0mstream\u001b[0m\u001b[1;33m)\u001b[0m\u001b[1;33m\u001b[0m\u001b[1;33m\u001b[0m\u001b[0m\n\u001b[0;32m   1698\u001b[0m             \u001b[1;32mif\u001b[0m \u001b[0mdebug\u001b[0m\u001b[1;33m:\u001b[0m \u001b[0mprint\u001b[0m\u001b[1;33m(\u001b[0m\u001b[1;34m\"  line:\"\u001b[0m\u001b[1;33m,\u001b[0m\u001b[0mline\u001b[0m\u001b[1;33m)\u001b[0m\u001b[1;33m\u001b[0m\u001b[1;33m\u001b[0m\u001b[0m\n",
      "\u001b[1;31mPdfReadError\u001b[0m: EOF marker not found"
     ]
    }
   ],
   "source": [
    "def getCoursePDF(link):\n",
    "    courseRes=[]\n",
    "    driver = webdriver.Chrome(PATH)\n",
    "    driver.get(link)\n",
    "    html = driver.page_source\n",
    "    soup = bs4.BeautifulSoup(html, \"html.parser\").find_all(\"div\", {\"id\" : \"main-content\"})\n",
    "    for s1 in soup:\n",
    "        for s in s1.find_all(\"td\"):\n",
    "            for e in s.find_all(\"a\"):\n",
    "                nlink=pref+e.attrs[\"href\"]\n",
    "                obj = CourseRes(s.text, nlink)\n",
    "            \n",
    "                response = requests.get(nlink)\n",
    "                my_raw_data = response.content\n",
    "            \n",
    "                with open(\"my_pdf.pdf\", 'wb') as my_data:\n",
    "                    my_data.write(my_raw_data) \n",
    "            \n",
    "                open_pdf_file = open(\"my_pdf.pdf\", 'rb')\n",
    "                read_pdf = PyPDF2.PdfFileReader(open_pdf_file)\n",
    "                if read_pdf.isEncrypted:\n",
    "                    read_pdf.decrypt(\"\")\n",
    "                    obj.durata=\"circa {} minuti\".format(read_pdf.getNumPages())\n",
    "                    print(obj.durata)\n",
    "                else:\n",
    "                    obj.durata=\"circa {} minuti\".format(read_pdf.getNumPages())\n",
    "                    print(obj.durata)\n",
    "                courseRes.append(obj)\n",
    "                del obj\n",
    "    driver.quit()\n",
    "    return courseRes\n",
    "\n",
    "ls = getCoursePDF('https://ocw.mit.edu/courses/16-810-engineering-design-and-rapid-prototyping-january-iap-2007/pages/lecture-notes/')\n",
    "for i in ls:\n",
    "    print(i.toString())\n",
    "\n",
    "        "
   ]
  },
  {
   "cell_type": "code",
   "execution_count": 32,
   "id": "fd6ba4cb-ce40-4682-9499-8dd87c363965",
   "metadata": {},
   "outputs": [
    {
     "name": "stderr",
     "output_type": "stream",
     "text": [
      "C:\\Users\\mirco\\AppData\\Local\\Temp/ipykernel_4756/2613464865.py:2: DeprecationWarning: executable_path has been deprecated, please pass in a Service object\n",
      "  driver = webdriver.Chrome(PATH)\n"
     ]
    }
   ],
   "source": [
    "f = open(\"res_dataset.csv\", \"a\")\n",
    "for i in link:\n",
    "    course = datacollector(i)\n",
    "    course.printInCSV(f)\n",
    "    del course\n",
    "f.close()"
   ]
  },
  {
   "cell_type": "code",
   "execution_count": 9,
   "id": "1bc2f6af-b818-4cf9-81e6-794756d0bd05",
   "metadata": {},
   "outputs": [
    {
     "name": "stderr",
     "output_type": "stream",
     "text": [
      "C:\\Users\\Lenovo\\AppData\\Local\\Temp/ipykernel_9480/1983120312.py:1: DeprecationWarning: executable_path has been deprecated, please pass in a Service object\n",
      "  driver = webdriver.Chrome(PATH)\n"
     ]
    }
   ],
   "source": [
    "driver = webdriver.Chrome(PATH)\n",
    "driver.get('https://ocw.mit.edu/pdfjs/web/viewer.html?file=blob:https://ocw.mit.edu/b26e9740-2fa5-41c2-b977-19194e3f2876')"
   ]
  },
  {
   "cell_type": "code",
   "execution_count": 2,
   "id": "b126953c-90cd-4af1-981c-528e0efa686d",
   "metadata": {},
   "outputs": [],
   "source": [
    "lst=[[1,2],[3,5,6]]\n",
    "flat_1 = [x for l in lst for x in l]"
   ]
  },
  {
   "cell_type": "code",
   "execution_count": 3,
   "id": "b75148a7-47ce-437b-8d91-1fe74b2fd607",
   "metadata": {},
   "outputs": [
    {
     "data": {
      "text/plain": [
       "[1, 2, 3, 5, 6]"
      ]
     },
     "execution_count": 3,
     "metadata": {},
     "output_type": "execute_result"
    }
   ],
   "source": [
    "flat_1"
   ]
  },
  {
   "cell_type": "code",
   "execution_count": 38,
   "id": "d5729f27-0a1f-4414-8080-6e3d6bc39184",
   "metadata": {
    "tags": []
   },
   "outputs": [
    {
     "ename": "PdfReadError",
     "evalue": "startxref not found",
     "output_type": "error",
     "traceback": [
      "\u001b[1;31m---------------------------------------------------------------------------\u001b[0m",
      "\u001b[1;31mValueError\u001b[0m                                Traceback (most recent call last)",
      "\u001b[1;32m~\\anaconda3\\lib\\site-packages\\PyPDF2\\pdf.py\u001b[0m in \u001b[0;36mread\u001b[1;34m(self, stream)\u001b[0m\n\u001b[0;32m   1702\u001b[0m         \u001b[1;32mtry\u001b[0m\u001b[1;33m:\u001b[0m\u001b[1;33m\u001b[0m\u001b[1;33m\u001b[0m\u001b[0m\n\u001b[1;32m-> 1703\u001b[1;33m             \u001b[0mstartxref\u001b[0m \u001b[1;33m=\u001b[0m \u001b[0mint\u001b[0m\u001b[1;33m(\u001b[0m\u001b[0mline\u001b[0m\u001b[1;33m)\u001b[0m\u001b[1;33m\u001b[0m\u001b[1;33m\u001b[0m\u001b[0m\n\u001b[0m\u001b[0;32m   1704\u001b[0m         \u001b[1;32mexcept\u001b[0m \u001b[0mValueError\u001b[0m\u001b[1;33m:\u001b[0m\u001b[1;33m\u001b[0m\u001b[1;33m\u001b[0m\u001b[0m\n",
      "\u001b[1;31mValueError\u001b[0m: invalid literal for int() with base 10: b'</html>'",
      "\nDuring handling of the above exception, another exception occurred:\n",
      "\u001b[1;31mPdfReadError\u001b[0m                              Traceback (most recent call last)",
      "\u001b[1;32m~\\AppData\\Local\\Temp/ipykernel_8028/896188835.py\u001b[0m in \u001b[0;36m<module>\u001b[1;34m\u001b[0m\n\u001b[0;32m      7\u001b[0m \u001b[1;33m\u001b[0m\u001b[0m\n\u001b[0;32m      8\u001b[0m \u001b[0mopen_pdf_file\u001b[0m \u001b[1;33m=\u001b[0m \u001b[0mopen\u001b[0m\u001b[1;33m(\u001b[0m\u001b[1;34m\"my_pdf.pdf\"\u001b[0m\u001b[1;33m,\u001b[0m \u001b[1;34m'rb'\u001b[0m\u001b[1;33m)\u001b[0m\u001b[1;33m\u001b[0m\u001b[1;33m\u001b[0m\u001b[0m\n\u001b[1;32m----> 9\u001b[1;33m \u001b[0mread_pdf\u001b[0m \u001b[1;33m=\u001b[0m \u001b[0mPdfFileReader\u001b[0m\u001b[1;33m(\u001b[0m\u001b[0mopen_pdf_file\u001b[0m\u001b[1;33m)\u001b[0m\u001b[1;33m\u001b[0m\u001b[1;33m\u001b[0m\u001b[0m\n\u001b[0m\u001b[0;32m     10\u001b[0m \u001b[1;32mif\u001b[0m \u001b[0mread_pdf\u001b[0m\u001b[1;33m.\u001b[0m\u001b[0misEncrypted\u001b[0m\u001b[1;33m:\u001b[0m\u001b[1;33m\u001b[0m\u001b[1;33m\u001b[0m\u001b[0m\n\u001b[0;32m     11\u001b[0m     \u001b[0mread_pdf\u001b[0m\u001b[1;33m.\u001b[0m\u001b[0mdecrypt\u001b[0m\u001b[1;33m(\u001b[0m\u001b[1;34m\"\"\u001b[0m\u001b[1;33m)\u001b[0m\u001b[1;33m\u001b[0m\u001b[1;33m\u001b[0m\u001b[0m\n",
      "\u001b[1;32m~\\anaconda3\\lib\\site-packages\\PyPDF2\\pdf.py\u001b[0m in \u001b[0;36m__init__\u001b[1;34m(self, stream, strict, warndest, overwriteWarnings)\u001b[0m\n\u001b[0;32m   1082\u001b[0m             \u001b[0mstream\u001b[0m \u001b[1;33m=\u001b[0m \u001b[0mBytesIO\u001b[0m\u001b[1;33m(\u001b[0m\u001b[0mb_\u001b[0m\u001b[1;33m(\u001b[0m\u001b[0mfileobj\u001b[0m\u001b[1;33m.\u001b[0m\u001b[0mread\u001b[0m\u001b[1;33m(\u001b[0m\u001b[1;33m)\u001b[0m\u001b[1;33m)\u001b[0m\u001b[1;33m)\u001b[0m\u001b[1;33m\u001b[0m\u001b[1;33m\u001b[0m\u001b[0m\n\u001b[0;32m   1083\u001b[0m             \u001b[0mfileobj\u001b[0m\u001b[1;33m.\u001b[0m\u001b[0mclose\u001b[0m\u001b[1;33m(\u001b[0m\u001b[1;33m)\u001b[0m\u001b[1;33m\u001b[0m\u001b[1;33m\u001b[0m\u001b[0m\n\u001b[1;32m-> 1084\u001b[1;33m         \u001b[0mself\u001b[0m\u001b[1;33m.\u001b[0m\u001b[0mread\u001b[0m\u001b[1;33m(\u001b[0m\u001b[0mstream\u001b[0m\u001b[1;33m)\u001b[0m\u001b[1;33m\u001b[0m\u001b[1;33m\u001b[0m\u001b[0m\n\u001b[0m\u001b[0;32m   1085\u001b[0m         \u001b[0mself\u001b[0m\u001b[1;33m.\u001b[0m\u001b[0mstream\u001b[0m \u001b[1;33m=\u001b[0m \u001b[0mstream\u001b[0m\u001b[1;33m\u001b[0m\u001b[1;33m\u001b[0m\u001b[0m\n\u001b[0;32m   1086\u001b[0m \u001b[1;33m\u001b[0m\u001b[0m\n",
      "\u001b[1;32m~\\anaconda3\\lib\\site-packages\\PyPDF2\\pdf.py\u001b[0m in \u001b[0;36mread\u001b[1;34m(self, stream)\u001b[0m\n\u001b[0;32m   1705\u001b[0m             \u001b[1;31m# 'startxref' may be on the same line as the location\u001b[0m\u001b[1;33m\u001b[0m\u001b[1;33m\u001b[0m\u001b[0m\n\u001b[0;32m   1706\u001b[0m             \u001b[1;32mif\u001b[0m \u001b[1;32mnot\u001b[0m \u001b[0mline\u001b[0m\u001b[1;33m.\u001b[0m\u001b[0mstartswith\u001b[0m\u001b[1;33m(\u001b[0m\u001b[0mb_\u001b[0m\u001b[1;33m(\u001b[0m\u001b[1;34m\"startxref\"\u001b[0m\u001b[1;33m)\u001b[0m\u001b[1;33m)\u001b[0m\u001b[1;33m:\u001b[0m\u001b[1;33m\u001b[0m\u001b[1;33m\u001b[0m\u001b[0m\n\u001b[1;32m-> 1707\u001b[1;33m                 \u001b[1;32mraise\u001b[0m \u001b[0mutils\u001b[0m\u001b[1;33m.\u001b[0m\u001b[0mPdfReadError\u001b[0m\u001b[1;33m(\u001b[0m\u001b[1;34m\"startxref not found\"\u001b[0m\u001b[1;33m)\u001b[0m\u001b[1;33m\u001b[0m\u001b[1;33m\u001b[0m\u001b[0m\n\u001b[0m\u001b[0;32m   1708\u001b[0m             \u001b[0mstartxref\u001b[0m \u001b[1;33m=\u001b[0m \u001b[0mint\u001b[0m\u001b[1;33m(\u001b[0m\u001b[0mline\u001b[0m\u001b[1;33m[\u001b[0m\u001b[1;36m9\u001b[0m\u001b[1;33m:\u001b[0m\u001b[1;33m]\u001b[0m\u001b[1;33m.\u001b[0m\u001b[0mstrip\u001b[0m\u001b[1;33m(\u001b[0m\u001b[1;33m)\u001b[0m\u001b[1;33m)\u001b[0m\u001b[1;33m\u001b[0m\u001b[1;33m\u001b[0m\u001b[0m\n\u001b[0;32m   1709\u001b[0m             \u001b[0mwarnings\u001b[0m\u001b[1;33m.\u001b[0m\u001b[0mwarn\u001b[0m\u001b[1;33m(\u001b[0m\u001b[1;34m\"startxref on same line as offset\"\u001b[0m\u001b[1;33m)\u001b[0m\u001b[1;33m\u001b[0m\u001b[1;33m\u001b[0m\u001b[0m\n",
      "\u001b[1;31mPdfReadError\u001b[0m: startxref not found"
     ]
    }
   ],
   "source": [
    "response = requests.get('https://ocw.mit.edu/pdfjs/web/viewer.html?file=blob%3Ahttps%3A%2F%2Focw.mit.edu%2Fa100be41-3106-448d-865c-c9760e7eec39')\n",
    "my_raw_data = response.content\n",
    "duration=\"\"\n",
    "            \n",
    "with open(\"my_pdf.pdf\", 'wb') as my_data:\n",
    "    my_data.write(my_raw_data+b'%%EOF')\n",
    "            \n",
    "open_pdf_file = open(\"my_pdf.pdf\", 'rb')\n",
    "read_pdf = PdfFileReader(open_pdf_file)\n",
    "if read_pdf.isEncrypted:\n",
    "    read_pdf.decrypt(\"\")\n",
    "    duration=\"circa {} minuti\".format(read_pdf.getNumPages())\n",
    "    print(duration)\n",
    "else:\n",
    "    duration=\"circa {} minuti\".format(read_pdf.getNumPages())\n",
    "    print(duration)"
   ]
  },
  {
   "cell_type": "code",
   "execution_count": null,
   "id": "7243649d-e8dd-49c3-9351-3f7d40e8f351",
   "metadata": {},
   "outputs": [],
   "source": []
  }
 ],
 "metadata": {
  "kernelspec": {
   "display_name": "Python 3 (ipykernel)",
   "language": "python",
   "name": "python3"
  },
  "language_info": {
   "codemirror_mode": {
    "name": "ipython",
    "version": 3
   },
   "file_extension": ".py",
   "mimetype": "text/x-python",
   "name": "python",
   "nbconvert_exporter": "python",
   "pygments_lexer": "ipython3",
   "version": "3.9.7"
  }
 },
 "nbformat": 4,
 "nbformat_minor": 5
}
