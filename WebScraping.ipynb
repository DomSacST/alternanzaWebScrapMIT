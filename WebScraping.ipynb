{
 "cells": [
  {
   "cell_type": "code",
   "execution_count": 9,
   "id": "dbde265a-eb86-4276-9953-d0a8ff8da99b",
   "metadata": {},
   "outputs": [],
   "source": [
    "import requests, bs4, selenium, math, time, functools\n",
    "from PyPDF2 import PdfFileReader\n",
    "from selenium import webdriver"
   ]
  },
  {
   "cell_type": "code",
   "execution_count": 10,
   "id": "05027a1c-0b8f-4f8b-8647-276304d23123",
   "metadata": {},
   "outputs": [],
   "source": [
    "PATH = './driver/chromedriver.exe'\n",
    "headers = {\n",
    "    'User-Agent': 'Mozilla/5.0 (Windows NT 10.0; Win64; x64) AppleWebKit/537.36 (KHTML, like Gecko) Chrome/99.0.4844.82 Safari/537.36'\n",
    "}\n",
    "pref = 'https://ocw.mit.edu'"
   ]
  },
  {
   "cell_type": "code",
   "execution_count": 11,
   "id": "24878cb9-183e-4c0e-9c1b-953da6a65a26",
   "metadata": {},
   "outputs": [],
   "source": [
    "class CourseRes:\n",
    "    \n",
    "    def __init__(self, nome, link, durata, course):\n",
    "        self.idN = course[0]\n",
    "        self.link=link\n",
    "        self.discip=course[1]\n",
    "        self.kywTit=course[2]\n",
    "        self.nome=nome\n",
    "        self.desc = course[3]\n",
    "        self.typeR=\"presentation\"\n",
    "        self.language=\"English\"\n",
    "        self.difficulty = course[4]\n",
    "        def setCommonVal():\n",
    "            self.formato=\"pdf\"\n",
    "            roundedRis=math.floor(durata/30)\n",
    "            if roundedRis<120:\n",
    "                self.durata = \"[{}-{}]\".format(*[roundedRis*30, (roundedRis+1)*30])\n",
    "            else:\n",
    "                self.durata = \"[120+]\"\n",
    "        if \"undergraduate\" in self.difficulty.lower():\n",
    "            setCommonVal()\n",
    "            self.public = ['Middle School', 'High School']\n",
    "            self.min_age=11\n",
    "            self.max_age=18\n",
    "        else:\n",
    "            setCommonVal()\n",
    "            self.public = ['College General Ed', 'Graduate School', 'Professional']\n",
    "            self.min_age=19\n",
    "            self.max_age=100\n",
    "    \n",
    "    def printInCSV(self, file):\n",
    "        for attr in self.__dict__:\n",
    "            item = self.__dict__[attr]\n",
    "            file.write(\"{};\".format(item))\n",
    "        file.write(\"\\n\")\n",
    "        "
   ]
  },
  {
   "cell_type": "code",
   "execution_count": 12,
   "id": "fc2a4ded-78cd-48de-a792-f5080e99392e",
   "metadata": {},
   "outputs": [],
   "source": [
    "def datacollector (link, f, driver):\n",
    "    driver.get(link)\n",
    "    html = driver.page_source\n",
    "    soup=bs4.BeautifulSoup(html, \"html.parser\")\n",
    "    des = soup.find_all(\"div\", {\"id\" : \"course-description\"})[0].text.replace(\"\\n\", \" \").replace(\";\", \",\")\n",
    "    lvl = soup.find_all(\"a\", {\"class\" : \"course-info-level\"})[0].text.replace(\" \", \"\").replace(\"\\n\", \"\")\n",
    "    tit = soup.find_all(\"a\", {\"class\" : \"text-uppercase display-4 font-weight-bold m-0 text-white\"})[0].text.replace(\"\\n\", \"\")\n",
    "    ids = [li.text.replace(\" \", \"\").replace(\"\\n\", \"\") for li in soup.find_all(\"ul\", {\"class\" : \"list-unstyled m-0\"})[1].find_all(\"li\")]\n",
    "    idl = functools.reduce(lambda x, y: x+\",\"+y , ids, \"\")[1:]\n",
    "    t = soup.find_all(\"table\", {\"id\" : \"course-info-table\"})\n",
    "    topic = \"\"\n",
    "    for c in t:\n",
    "        for a in c.find_all(\"ul\", {\"class\" : \"list-unstyled pb-2 m-0\"}):\n",
    "            for g in a.find_all(\"li\"):\n",
    "                topic += g.text.replace(\"\\n\", \"\").replace (\"      >          \", \"/\")+\", \"\n",
    "    course = [idl, topic, tit, des, lvl]\n",
    "    patternlink= link[len(pref):]+\"pages/lecture-notes\"\n",
    "    if bs4.BeautifulSoup(html, \"html.parser\").find_all(\"a\", {\"href\" : patternlink}):\n",
    "        nlink = pref + patternlink\n",
    "        getCoursePDF(nlink, f, course, driver) \n",
    "        del course\n",
    "        print(\"Downloaded files from \"+nlink)\n",
    "    "
   ]
  },
  {
   "cell_type": "code",
   "execution_count": 13,
   "id": "d2366b99-0719-4c18-844d-3617aba3e692",
   "metadata": {},
   "outputs": [],
   "source": [
    "def getCoursePDF(link, f , course, driver):\n",
    "    driver.get(link)\n",
    "    html = driver.page_source\n",
    "    soup = bs4.BeautifulSoup(html, \"html.parser\").find_all(\"div\", {\"id\" : \"main-content\"})\n",
    "    for s1 in soup:\n",
    "        for s in s1.find_all(\"td\"):\n",
    "            for e in s.find_all(\"a\"):\n",
    "                nlink=pref+e.attrs[\"href\"]\n",
    "            \n",
    "                response = requests.get(nlink,{\"headers\" : headers})\n",
    "                href = bs4.BeautifulSoup(response.text, \"html.parser\").find(\"a\", {\"class\":\"download-file\"})\n",
    "                if href[\"href\"][-3:]==\"pdf\":\n",
    "                    pdflink = pref+href[\"href\"]\n",
    "                    response = requests.get(pdflink, stream=True)\n",
    "                    my_raw_data = response.content\n",
    "                \n",
    "                    with open(\"my_pdf.pdf\", 'wb') as my_data:\n",
    "                        my_data.write(my_raw_data) \n",
    "                    \n",
    "                        open_pdf_file = open(\"my_pdf.pdf\", 'rb')\n",
    "                        read_pdf = PdfFileReader(open_pdf_file)\n",
    "                        obj=CourseRes(str(read_pdf.getDocumentInfo().title), pdflink, read_pdf.getNumPages(), course)\n",
    "                        open_pdf_file.close()\n",
    "                        #Metti qui il codice per caricare il file sul drive. Ricordati di cambiare nome al pdf\n",
    "                        obj.printInCSV(f)\n",
    "                        del obj"
   ]
  },
  {
   "cell_type": "code",
   "execution_count": 14,
   "id": "fd6ba4cb-ce40-4682-9499-8dd87c363965",
   "metadata": {},
   "outputs": [
    {
     "name": "stderr",
     "output_type": "stream",
     "text": [
      "DeprecationWarning: executable_path has been deprecated, please pass in a Service object [3276547203.py:6]\n"
     ]
    },
    {
     "name": "stdout",
     "output_type": "stream",
     "text": [
      "Downloaded files from https://ocw.mit.edu/courses/1-040-project-management-spring-2004/pages/lecture-notes\n",
      "Downloaded files from https://ocw.mit.edu/courses/1-00-introduction-to-computers-and-engineering-problem-solving-spring-2012/pages/lecture-notes\n",
      "Downloaded files from https://ocw.mit.edu/courses/1-022-introduction-to-network-models-fall-2018/pages/lecture-notes\n",
      "Downloaded files from https://ocw.mit.edu/courses/1-011-project-evaluation-spring-2011/pages/lecture-notes\n",
      "Downloaded files from https://ocw.mit.edu/courses/1-018j-ecology-i-the-earth-system-fall-2009/pages/lecture-notes\n",
      "Downloaded files from https://ocw.mit.edu/courses/1-017-computing-and-data-analysis-for-environmental-applications-fall-2003/pages/lecture-notes\n",
      "Downloaded files from https://ocw.mit.edu/courses/1-020-ecology-ii-engineering-for-sustainability-spring-2008/pages/lecture-notes\n",
      "Downloaded files from https://ocw.mit.edu/courses/1-033-mechanics-of-material-systems-an-energy-approach-fall-2003/pages/lecture-notes\n",
      "Downloaded files from https://ocw.mit.edu/courses/1-010-uncertainty-in-engineering-fall-2008/pages/lecture-notes\n"
     ]
    },
    {
     "ename": "WebDriverException",
     "evalue": "Message: chrome not reachable\n  (Session info: chrome=100.0.4896.75)\nStacktrace:\nBacktrace:\n\tOrdinal0 [0x007E9943+2595139]\n\tOrdinal0 [0x0077C9F1+2148849]\n\tOrdinal0 [0x006743F0+1065968]\n\tOrdinal0 [0x006687C2+1017794]\n\tOrdinal0 [0x00668FF8+1019896]\n\tOrdinal0 [0x0066A892+1026194]\n\tOrdinal0 [0x00664219+999961]\n\tOrdinal0 [0x00675860+1071200]\n\tOrdinal0 [0x006CB2D2+1422034]\n\tOrdinal0 [0x006BB806+1357830]\n\tOrdinal0 [0x00696086+1204358]\n\tOrdinal0 [0x00696F96+1208214]\n\tGetHandleVerifier [0x0098B232+1658114]\n\tGetHandleVerifier [0x00A4312C+2411516]\n\tGetHandleVerifier [0x0087F261+560433]\n\tGetHandleVerifier [0x0087E366+556598]\n\tOrdinal0 [0x0078286B+2173035]\n\tOrdinal0 [0x007875F8+2192888]\n\tOrdinal0 [0x007876E5+2193125]\n\tOrdinal0 [0x007911FC+2232828]\n\tBaseThreadInitThunk [0x7648FA29+25]\n\tRtlGetAppContainerNamedObjectPath [0x77CA7A7E+286]\n\tRtlGetAppContainerNamedObjectPath [0x77CA7A4E+238]\n",
     "output_type": "error",
     "traceback": [
      "\u001b[1;31m---------------------------------------------------------------------------\u001b[0m",
      "\u001b[1;31mWebDriverException\u001b[0m                        Traceback (most recent call last)",
      "\u001b[1;32m~\\AppData\\Local\\Temp/ipykernel_15356/3276547203.py\u001b[0m in \u001b[0;36m<module>\u001b[1;34m\u001b[0m\n\u001b[0;32m     19\u001b[0m     \u001b[1;32mfor\u001b[0m \u001b[0ms\u001b[0m \u001b[1;32min\u001b[0m \u001b[0mlinks\u001b[0m\u001b[1;33m:\u001b[0m\u001b[1;33m\u001b[0m\u001b[1;33m\u001b[0m\u001b[0m\n\u001b[0;32m     20\u001b[0m         \u001b[0mdatacollector\u001b[0m\u001b[1;33m(\u001b[0m\u001b[1;34m\"https://ocw.mit.edu\"\u001b[0m \u001b[1;33m+\u001b[0m \u001b[0ms\u001b[0m\u001b[1;33m.\u001b[0m\u001b[0mattrs\u001b[0m\u001b[1;33m[\u001b[0m\u001b[1;34m\"href\"\u001b[0m\u001b[1;33m]\u001b[0m\u001b[1;33m,\u001b[0m \u001b[0mf\u001b[0m\u001b[1;33m,\u001b[0m \u001b[0mdriver\u001b[0m\u001b[1;33m)\u001b[0m\u001b[1;33m\u001b[0m\u001b[1;33m\u001b[0m\u001b[0m\n\u001b[1;32m---> 21\u001b[1;33m     \u001b[0mdriver\u001b[0m\u001b[1;33m.\u001b[0m\u001b[0mexecute_script\u001b[0m\u001b[1;33m(\u001b[0m\u001b[1;34m\"window.scrollBy(0,500)\"\u001b[0m\u001b[1;33m)\u001b[0m\u001b[1;33m\u001b[0m\u001b[1;33m\u001b[0m\u001b[0m\n\u001b[0m\u001b[0;32m     22\u001b[0m     \u001b[0moldlinks\u001b[0m\u001b[1;33m=\u001b[0m\u001b[0moldlinks\u001b[0m \u001b[1;33m+\u001b[0m \u001b[1;33m[\u001b[0m\u001b[0ml\u001b[0m \u001b[1;32mfor\u001b[0m \u001b[0ml\u001b[0m \u001b[1;32min\u001b[0m \u001b[0mlinks\u001b[0m \u001b[1;32mif\u001b[0m \u001b[1;32mnot\u001b[0m \u001b[1;33m(\u001b[0m\u001b[0ml\u001b[0m \u001b[1;32min\u001b[0m \u001b[0moldlinks\u001b[0m\u001b[1;33m)\u001b[0m\u001b[1;33m]\u001b[0m\u001b[1;33m\u001b[0m\u001b[1;33m\u001b[0m\u001b[0m\n\u001b[0;32m     23\u001b[0m \u001b[0mdriver\u001b[0m\u001b[1;33m.\u001b[0m\u001b[0mquit\u001b[0m\u001b[1;33m(\u001b[0m\u001b[1;33m)\u001b[0m\u001b[1;33m\u001b[0m\u001b[1;33m\u001b[0m\u001b[0m\n",
      "\u001b[1;32m~\\anaconda3\\lib\\site-packages\\selenium\\webdriver\\remote\\webdriver.py\u001b[0m in \u001b[0;36mexecute_script\u001b[1;34m(self, script, *args)\u001b[0m\n\u001b[0;32m    876\u001b[0m         \u001b[0mcommand\u001b[0m \u001b[1;33m=\u001b[0m \u001b[0mCommand\u001b[0m\u001b[1;33m.\u001b[0m\u001b[0mW3C_EXECUTE_SCRIPT\u001b[0m\u001b[1;33m\u001b[0m\u001b[1;33m\u001b[0m\u001b[0m\n\u001b[0;32m    877\u001b[0m \u001b[1;33m\u001b[0m\u001b[0m\n\u001b[1;32m--> 878\u001b[1;33m         return self.execute(command, {\n\u001b[0m\u001b[0;32m    879\u001b[0m             \u001b[1;34m'script'\u001b[0m\u001b[1;33m:\u001b[0m \u001b[0mscript\u001b[0m\u001b[1;33m,\u001b[0m\u001b[1;33m\u001b[0m\u001b[1;33m\u001b[0m\u001b[0m\n\u001b[0;32m    880\u001b[0m             'args': converted_args})['value']\n",
      "\u001b[1;32m~\\anaconda3\\lib\\site-packages\\selenium\\webdriver\\remote\\webdriver.py\u001b[0m in \u001b[0;36mexecute\u001b[1;34m(self, driver_command, params)\u001b[0m\n\u001b[0;32m    422\u001b[0m         \u001b[0mresponse\u001b[0m \u001b[1;33m=\u001b[0m \u001b[0mself\u001b[0m\u001b[1;33m.\u001b[0m\u001b[0mcommand_executor\u001b[0m\u001b[1;33m.\u001b[0m\u001b[0mexecute\u001b[0m\u001b[1;33m(\u001b[0m\u001b[0mdriver_command\u001b[0m\u001b[1;33m,\u001b[0m \u001b[0mparams\u001b[0m\u001b[1;33m)\u001b[0m\u001b[1;33m\u001b[0m\u001b[1;33m\u001b[0m\u001b[0m\n\u001b[0;32m    423\u001b[0m         \u001b[1;32mif\u001b[0m \u001b[0mresponse\u001b[0m\u001b[1;33m:\u001b[0m\u001b[1;33m\u001b[0m\u001b[1;33m\u001b[0m\u001b[0m\n\u001b[1;32m--> 424\u001b[1;33m             \u001b[0mself\u001b[0m\u001b[1;33m.\u001b[0m\u001b[0merror_handler\u001b[0m\u001b[1;33m.\u001b[0m\u001b[0mcheck_response\u001b[0m\u001b[1;33m(\u001b[0m\u001b[0mresponse\u001b[0m\u001b[1;33m)\u001b[0m\u001b[1;33m\u001b[0m\u001b[1;33m\u001b[0m\u001b[0m\n\u001b[0m\u001b[0;32m    425\u001b[0m             response['value'] = self._unwrap_value(\n\u001b[0;32m    426\u001b[0m                 response.get('value', None))\n",
      "\u001b[1;32m~\\anaconda3\\lib\\site-packages\\selenium\\webdriver\\remote\\errorhandler.py\u001b[0m in \u001b[0;36mcheck_response\u001b[1;34m(self, response)\u001b[0m\n\u001b[0;32m    245\u001b[0m                 \u001b[0malert_text\u001b[0m \u001b[1;33m=\u001b[0m \u001b[0mvalue\u001b[0m\u001b[1;33m[\u001b[0m\u001b[1;34m'alert'\u001b[0m\u001b[1;33m]\u001b[0m\u001b[1;33m.\u001b[0m\u001b[0mget\u001b[0m\u001b[1;33m(\u001b[0m\u001b[1;34m'text'\u001b[0m\u001b[1;33m)\u001b[0m\u001b[1;33m\u001b[0m\u001b[1;33m\u001b[0m\u001b[0m\n\u001b[0;32m    246\u001b[0m             \u001b[1;32mraise\u001b[0m \u001b[0mexception_class\u001b[0m\u001b[1;33m(\u001b[0m\u001b[0mmessage\u001b[0m\u001b[1;33m,\u001b[0m \u001b[0mscreen\u001b[0m\u001b[1;33m,\u001b[0m \u001b[0mstacktrace\u001b[0m\u001b[1;33m,\u001b[0m \u001b[0malert_text\u001b[0m\u001b[1;33m)\u001b[0m  \u001b[1;31m# type: ignore[call-arg]  # mypy is not smart enough here\u001b[0m\u001b[1;33m\u001b[0m\u001b[1;33m\u001b[0m\u001b[0m\n\u001b[1;32m--> 247\u001b[1;33m         \u001b[1;32mraise\u001b[0m \u001b[0mexception_class\u001b[0m\u001b[1;33m(\u001b[0m\u001b[0mmessage\u001b[0m\u001b[1;33m,\u001b[0m \u001b[0mscreen\u001b[0m\u001b[1;33m,\u001b[0m \u001b[0mstacktrace\u001b[0m\u001b[1;33m)\u001b[0m\u001b[1;33m\u001b[0m\u001b[1;33m\u001b[0m\u001b[0m\n\u001b[0m\u001b[0;32m    248\u001b[0m \u001b[1;33m\u001b[0m\u001b[0m\n\u001b[0;32m    249\u001b[0m     \u001b[1;32mdef\u001b[0m \u001b[0m_value_or_default\u001b[0m\u001b[1;33m(\u001b[0m\u001b[0mself\u001b[0m\u001b[1;33m,\u001b[0m \u001b[0mobj\u001b[0m\u001b[1;33m:\u001b[0m \u001b[0mMapping\u001b[0m\u001b[1;33m[\u001b[0m\u001b[0m_KT\u001b[0m\u001b[1;33m,\u001b[0m \u001b[0m_VT\u001b[0m\u001b[1;33m]\u001b[0m\u001b[1;33m,\u001b[0m \u001b[0mkey\u001b[0m\u001b[1;33m:\u001b[0m \u001b[0m_KT\u001b[0m\u001b[1;33m,\u001b[0m \u001b[0mdefault\u001b[0m\u001b[1;33m:\u001b[0m \u001b[0m_VT\u001b[0m\u001b[1;33m)\u001b[0m \u001b[1;33m->\u001b[0m \u001b[0m_VT\u001b[0m\u001b[1;33m:\u001b[0m\u001b[1;33m\u001b[0m\u001b[1;33m\u001b[0m\u001b[0m\n",
      "\u001b[1;31mWebDriverException\u001b[0m: Message: chrome not reachable\n  (Session info: chrome=100.0.4896.75)\nStacktrace:\nBacktrace:\n\tOrdinal0 [0x007E9943+2595139]\n\tOrdinal0 [0x0077C9F1+2148849]\n\tOrdinal0 [0x006743F0+1065968]\n\tOrdinal0 [0x006687C2+1017794]\n\tOrdinal0 [0x00668FF8+1019896]\n\tOrdinal0 [0x0066A892+1026194]\n\tOrdinal0 [0x00664219+999961]\n\tOrdinal0 [0x00675860+1071200]\n\tOrdinal0 [0x006CB2D2+1422034]\n\tOrdinal0 [0x006BB806+1357830]\n\tOrdinal0 [0x00696086+1204358]\n\tOrdinal0 [0x00696F96+1208214]\n\tGetHandleVerifier [0x0098B232+1658114]\n\tGetHandleVerifier [0x00A4312C+2411516]\n\tGetHandleVerifier [0x0087F261+560433]\n\tGetHandleVerifier [0x0087E366+556598]\n\tOrdinal0 [0x0078286B+2173035]\n\tOrdinal0 [0x007875F8+2192888]\n\tOrdinal0 [0x007876E5+2193125]\n\tOrdinal0 [0x007911FC+2232828]\n\tBaseThreadInitThunk [0x7648FA29+25]\n\tRtlGetAppContainerNamedObjectPath [0x77CA7A7E+286]\n\tRtlGetAppContainerNamedObjectPath [0x77CA7A4E+238]\n"
     ]
    }
   ],
   "source": [
    "urlfine = \"https://ocw.mit.edu/courses/wgs-s10-history-of-women-in-science-and-engineering-fall-2017/\"\n",
    "url = 'https://ocw.mit.edu/search/?s=department_course_numbers.sort_coursenum'\n",
    "pref=\"https://ocw.mit.edu\"\n",
    "#fineurl = 'https://ocw.mit.edu/courses/1-34-waste-containment-and-remediation-technology-spring-2004/'\n",
    "PATH = './driver/chromedriver.exe'\n",
    "driver = webdriver.Chrome(PATH)\n",
    "driver.get(url)\n",
    "time.sleep(5)\n",
    "html = driver.page_source\n",
    "ntot = int(bs4.BeautifulSoup(html, 'html.parser').find_all(\"span\", {\"class\" : \"results-total-number\"})[0].text)\n",
    "oldlinks=[]\n",
    "f = open('res_dataset.csv', 'wt')\n",
    "f.write(\"id;link;disciplines;keywords;title;description;type;language;difficulty;format;duration;public;min_age;max_age\\n\")\n",
    "f.close()\n",
    "f=open('res_dataset.csv', 'a')\n",
    "while ntot>len(oldlinks):\n",
    "    html = driver.page_source\n",
    "    links = set([l for l in bs4.BeautifulSoup(html, 'html.parser').find_all(\"a\", {\"class\" : \"w-100\"}) if not (l in oldlinks)])\n",
    "    for s in links:\n",
    "        datacollector(\"https://ocw.mit.edu\" + s.attrs[\"href\"], f, driver)\n",
    "    driver.execute_script(\"window.scrollBy(0,500)\")\n",
    "    oldlinks=oldlinks + [l for l in links if not (l in oldlinks)]\n",
    "driver.quit()\n",
    "f.close()"
   ]
  },
  {
   "cell_type": "code",
   "execution_count": null,
   "id": "47958026-f422-4f88-a030-c220e99c269e",
   "metadata": {},
   "outputs": [],
   "source": []
  }
 ],
 "metadata": {
  "kernelspec": {
   "display_name": "Python 3 (ipykernel)",
   "language": "python",
   "name": "python3"
  },
  "language_info": {
   "codemirror_mode": {
    "name": "ipython",
    "version": 3
   },
   "file_extension": ".py",
   "mimetype": "text/x-python",
   "name": "python",
   "nbconvert_exporter": "python",
   "pygments_lexer": "ipython3",
   "version": "3.9.7"
  }
 },
 "nbformat": 4,
 "nbformat_minor": 5
}
