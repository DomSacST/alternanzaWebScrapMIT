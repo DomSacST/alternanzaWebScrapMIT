{
 "cells": [
  {
   "cell_type": "code",
   "execution_count": 1,
   "id": "6c2e3cc1",
   "metadata": {},
   "outputs": [],
   "source": [
    "#from pip._internal import main\n",
    "#main([\"install\", \"msgpack\"])\n",
    "#main([\"install\", \"pixiedust\"])"
   ]
  },
  {
   "cell_type": "code",
   "execution_count": 1,
   "id": "6f4654f1",
   "metadata": {},
   "outputs": [],
   "source": [
    "import requests, bs4, selenium, pickle#, inspect, pixiedust\n",
    "from selenium import webdriver"
   ]
  },
  {
   "cell_type": "code",
   "execution_count": 3,
   "id": "a777b7cb-6ccf-48a8-8227-92825c9e5e33",
   "metadata": {},
   "outputs": [],
   "source": [
    "class CourseRes:\n",
    "    formato=\"\"\n",
    "    typeR=\"\"\n",
    "    nome=\"\"\n",
    "    link=\"\"\n",
    "    \n",
    "    def __init__(self, nome, formato, typeR, link):\n",
    "        self.nome=nome\n",
    "        self.formato=formato\n",
    "        self.typeR=typeR\n",
    "        self.link=link\n",
    "        \n",
    "    def toString(self):\n",
    "        return \"{} {}.{} in {}\".format(self.typeR, self.nome, self.formato, self.link)\n",
    "\n",
    "class CourseInfo:\n",
    "    nome=\"\"\n",
    "    idN=\"\"\n",
    "    link=\"\"\n",
    "    kywTit=\"\"\n",
    "    difficulty=\"\"\n",
    "    res=[] # type CourseRes\n",
    "    durata=[]\n",
    "    min_age=0\n",
    "    max_age=0\n",
    "    desc=\"\"\n",
    "    discip=\"\"\n",
    "    pubblico=[]\n",
    "    \n",
    "    def __init__(self, link, difficulty):\n",
    "        self.nome=nome\n",
    "        self.difficulty=difficulty\n",
    "        self.link=link\n",
    "        if \"undergraduate\" in difficulty.lower():\n",
    "            self.pubblico = ['Middle School', 'High School']\n",
    "            self.min_age=11\n",
    "            self.max_age=18\n",
    "        else:\n",
    "            self.pubblico = ['College General Ed', 'Graduate School', 'Professional']\n",
    "            self.min_age=19\n",
    "            self.max_age=100\n",
    "            \n",
    "    \n",
    "    #difficulty: graduate=medio alta, undergraduate=media\n",
    "    #formato: lecture notes=pdf, assignments=pdf, \n",
    "    #durata: slidex2 = minuti {[0-30]...[120+]}, \n",
    "    #pubblico: undergrad=['Middle School', 'High School'], graduate=['College General Ed', 'Graduate School', 'Professional]\n",
    "    #type: lecture notes=presentation, assignments=Quiz/Test, \n",
    "    #min_age: undergrad=11, grad=19, max_age: undergrad=18, grad=100\n",
    "        \n",
    "    def printInCSV(self, file):\n",
    "        for attr in self.__dict__:\n",
    "            item = self.__dict__[attr]\n",
    "            if not type(item) is list:\n",
    "                file.write(\"{};\".format(item))\n",
    "            else:\n",
    "                if isinstance(item[0], CourseRes):\n",
    "                    file.write(\"{};\".format([r.toString() for r in item]))\n",
    "        file.write(\"\\n\")"
   ]
  },
  {
   "cell_type": "code",
   "execution_count": 11,
   "id": "dee954ec",
   "metadata": {},
   "outputs": [
    {
     "name": "stderr",
     "output_type": "stream",
     "text": [
      "C:\\Users\\Lenovo\\AppData\\Local\\Temp/ipykernel_18036/2805806334.py:3: DeprecationWarning: executable_path has been deprecated, please pass in a Service object\n",
      "  driver = webdriver.Chrome(PATH)\n"
     ]
    }
   ],
   "source": [
    "url = 'https://ocw.mit.edu/search/'\n",
    "PATH = './driver/chromedriver.exe'\n",
    "driver = webdriver.Chrome(PATH)\n",
    "headers = {\n",
    "    'User-Agent': 'Mozilla/5.0 (Windows NT 10.0; Win64; x64) AppleWebKit/537.36 (KHTML, like Gecko) Chrome/99.0.4844.82 Safari/537.36'\n",
    "}"
   ]
  },
  {
   "cell_type": "code",
   "execution_count": 4,
   "id": "7f70831f",
   "metadata": {},
   "outputs": [],
   "source": [
    "# Stefano metti la roba fra questo è pazzo porcoddio"
   ]
  },
  {
   "cell_type": "code",
   "execution_count": 5,
   "id": "6c2dbdfa-5ca5-4b47-8f63-6090dca3e1e8",
   "metadata": {},
   "outputs": [],
   "source": [
    "# Mirco metti qua il tuo codice"
   ]
  },
  {
   "cell_type": "code",
   "execution_count": 13,
   "id": "96007bb6",
   "metadata": {
    "pixiedust": {
     "displayParams": {}
    },
    "tags": []
   },
   "outputs": [],
   "source": [
    "#obj = CourseInfo({})\n",
    "#obj.res=[CourseRes(\"prova\", \"pdf\", \"presentazione\", \"culo a tua mamma\")]\n",
    "#obj.nome=\"stocazzo\"\n",
    "#f = open(\"demofile2.csv\", \"a\")\n",
    "#obj.printInCSV(f)\n",
    "#f.close()\n",
    "#f1 = open(\"demofile2.csv\", \"rb\")\n",
    "#for line in f1:\n",
    "#    print(line)"
   ]
  },
  {
   "cell_type": "code",
   "execution_count": null,
   "id": "8d2a9070-216e-4e60-8a1c-bc05e40694d3",
   "metadata": {},
   "outputs": [],
   "source": []
  }
 ],
 "metadata": {
  "kernelspec": {
   "display_name": "Python 3 (ipykernel)",
   "language": "python",
   "name": "python3"
  },
  "language_info": {
   "codemirror_mode": {
    "name": "ipython",
    "version": 3
   },
   "file_extension": ".py",
   "mimetype": "text/x-python",
   "name": "python",
   "nbconvert_exporter": "python",
   "pygments_lexer": "ipython3",
   "version": "3.9.7"
  }
 },
 "nbformat": 4,
 "nbformat_minor": 5
}
