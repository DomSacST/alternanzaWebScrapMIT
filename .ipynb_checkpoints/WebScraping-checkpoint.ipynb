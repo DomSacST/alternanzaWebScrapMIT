{
 "cells": [
  {
   "cell_type": "code",
   "execution_count": 2,
   "id": "6f4654f1",
   "metadata": {},
   "outputs": [],
   "source": [
    "import requests, bs4, selenium, pickle#, inspect, pixiedust\n",
    "from selenium import webdriver"
   ]
  },
  {
   "cell_type": "code",
   "execution_count": 3,
   "id": "a777b7cb-6ccf-48a8-8227-92825c9e5e33",
   "metadata": {},
   "outputs": [],
   "source": [
    "class CourseRes:\n",
    "    formato=\"\"\n",
    "    typeR=\"\"\n",
    "    nome=\"\"\n",
    "    link=\"\"\n",
    "\n",
    "    def __init__(self, nome, formato, typeR, link):\n",
    "        self.nome=nome\n",
    "        self.formato=formato\n",
    "        self.typeR=typeR\n",
    "        self.link=link\n",
    "\n",
    "    def toString(self):\n",
    "        return \"{} {}.{} in {}\".format(self.typeR, self.nome, self.formato, self.link)\n",
    "\n",
    "class CourseInfo:\n",
    "    nome=\"\"\n",
    "    idN=\"\"\n",
    "    link=\"\"\n",
    "    kywTit=\"\"\n",
    "    difficulty=\"\"\n",
    "    res=[] # type CourseRes\n",
    "    durata=[]\n",
    "    min_age=0\n",
    "    max_age=0\n",
    "    desc=\"\"\n",
    "    discip=\"\"\n",
    "    pubblico=[]\n",
    "\n",
    "    def __init__(self, link):\n",
    "       \n",
    "        self.link=link\n",
    "        \n",
    "        #if \"undergraduate\" in difficulty.lower():\n",
    "         #self.pubblico = ['Middle School', 'High School']\n",
    "            #self.min_age=11\n",
    "            #self.max_age=18\n",
    "        #else:\n",
    "            #self.pubblico = ['College General Ed', 'Graduate School', 'Professional']\n",
    "            #self.min_age=19\n",
    "            #self.max_age=100\n",
    "\n",
    "\n",
    "    #difficulty: graduate=medio alta, undergraduate=media\n",
    "    #formato: lecture notes=pdf, assignments=pdf, \n",
    "    #durata: slidex2 = minuti {[0-30]...[120+]}, \n",
    "    #pubblico: undergrad=['Middle School', 'High School'], graduate=['College General Ed', 'Graduate School', 'Professional]\n",
    "    #type: lecture notes=presentation, assignments=Quiz/Test, \n",
    "    #min_age: undergrad=11, grad=19, max_age: undergrad=18, grad=100\n",
    "\n",
    "    def printInCSV(self, file):\n",
    "        for attr in self.__dict__:\n",
    "            item = self.__dict__[attr]\n",
    "            if not type(item) is list:\n",
    "                file.write(\"{};\".format(item))\n",
    "            else:\n",
    "                if isinstance(item[0], CourseRes):\n",
    "                    file.write(\"{};\".format([r.toString() for r in item]))\n",
    "        file.write(\"\\n\")"
   ]
  },
  {
   "cell_type": "code",
   "execution_count": 27,
   "id": "d59182ba-56b7-4653-9982-4619fe7170aa",
   "metadata": {},
   "outputs": [
    {
     "name": "stderr",
     "output_type": "stream",
     "text": [
      "C:\\Users\\Lenovo\\AppData\\Local\\Temp/ipykernel_9048/1521956447.py:6: DeprecationWarning: executable_path has been deprecated, please pass in a Service object\n",
      "  driver = webdriver.Chrome(PATH)\n"
     ]
    },
    {
     "ename": "WebDriverException",
     "evalue": "Message: chrome not reachable\n  (Session info: chrome=99.0.4844.84)\nStacktrace:\nBacktrace:\n\tOrdinal0 [0x00759943+2595139]\n\tOrdinal0 [0x006EC9F1+2148849]\n\tOrdinal0 [0x005E43F0+1065968]\n\tOrdinal0 [0x005D87C2+1017794]\n\tOrdinal0 [0x005D8FF8+1019896]\n\tOrdinal0 [0x005DA892+1026194]\n\tOrdinal0 [0x005D4219+999961]\n\tOrdinal0 [0x005E5860+1071200]\n\tOrdinal0 [0x0063B2D2+1422034]\n\tOrdinal0 [0x0062B806+1357830]\n\tOrdinal0 [0x00606086+1204358]\n\tOrdinal0 [0x00606F96+1208214]\n\tGetHandleVerifier [0x008FB232+1658114]\n\tGetHandleVerifier [0x009B312C+2411516]\n\tGetHandleVerifier [0x007EF261+560433]\n\tGetHandleVerifier [0x007EE366+556598]\n\tOrdinal0 [0x006F286B+2173035]\n\tOrdinal0 [0x006F75F8+2192888]\n\tOrdinal0 [0x006F76E5+2193125]\n\tOrdinal0 [0x007011FC+2232828]\n\tBaseThreadInitThunk [0x7623FA29+25]\n\tRtlGetAppContainerNamedObjectPath [0x771E7A7E+286]\n\tRtlGetAppContainerNamedObjectPath [0x771E7A4E+238]\n",
     "output_type": "error",
     "traceback": [
      "\u001b[1;31m---------------------------------------------------------------------------\u001b[0m",
      "\u001b[1;31mWebDriverException\u001b[0m                        Traceback (most recent call last)",
      "\u001b[1;32m~\\AppData\\Local\\Temp/ipykernel_9048/1521956447.py\u001b[0m in \u001b[0;36m<module>\u001b[1;34m\u001b[0m\n\u001b[0;32m     25\u001b[0m         \u001b[1;32mif\u001b[0m \u001b[0mfine\u001b[0m\u001b[1;33m:\u001b[0m\u001b[1;33m\u001b[0m\u001b[1;33m\u001b[0m\u001b[0m\n\u001b[0;32m     26\u001b[0m             \u001b[1;32mbreak\u001b[0m\u001b[1;33m\u001b[0m\u001b[1;33m\u001b[0m\u001b[0m\n\u001b[1;32m---> 27\u001b[1;33m     \u001b[0mdriver\u001b[0m\u001b[1;33m.\u001b[0m\u001b[0mexecute_script\u001b[0m\u001b[1;33m(\u001b[0m\u001b[1;34m\"window.scrollTo(0,document.body.scrollHeight)\"\u001b[0m\u001b[1;33m)\u001b[0m\u001b[1;33m\u001b[0m\u001b[1;33m\u001b[0m\u001b[0m\n\u001b[0m\u001b[0;32m     28\u001b[0m     \u001b[0moldlinks\u001b[0m\u001b[1;33m=\u001b[0m\u001b[0moldlinks\u001b[0m\u001b[1;33m.\u001b[0m\u001b[0munion\u001b[0m\u001b[1;33m(\u001b[0m\u001b[0mlinks\u001b[0m\u001b[1;33m)\u001b[0m\u001b[1;33m\u001b[0m\u001b[1;33m\u001b[0m\u001b[0m\n\u001b[0;32m     29\u001b[0m \u001b[0mprint\u001b[0m\u001b[1;33m(\u001b[0m\u001b[0mlen\u001b[0m\u001b[1;33m(\u001b[0m\u001b[0moldlinks\u001b[0m\u001b[1;33m)\u001b[0m\u001b[1;33m)\u001b[0m\u001b[1;33m\u001b[0m\u001b[1;33m\u001b[0m\u001b[0m\n",
      "\u001b[1;32m~\\anaconda3\\lib\\site-packages\\selenium\\webdriver\\remote\\webdriver.py\u001b[0m in \u001b[0;36mexecute_script\u001b[1;34m(self, script, *args)\u001b[0m\n\u001b[0;32m    876\u001b[0m         \u001b[0mcommand\u001b[0m \u001b[1;33m=\u001b[0m \u001b[0mCommand\u001b[0m\u001b[1;33m.\u001b[0m\u001b[0mW3C_EXECUTE_SCRIPT\u001b[0m\u001b[1;33m\u001b[0m\u001b[1;33m\u001b[0m\u001b[0m\n\u001b[0;32m    877\u001b[0m \u001b[1;33m\u001b[0m\u001b[0m\n\u001b[1;32m--> 878\u001b[1;33m         return self.execute(command, {\n\u001b[0m\u001b[0;32m    879\u001b[0m             \u001b[1;34m'script'\u001b[0m\u001b[1;33m:\u001b[0m \u001b[0mscript\u001b[0m\u001b[1;33m,\u001b[0m\u001b[1;33m\u001b[0m\u001b[1;33m\u001b[0m\u001b[0m\n\u001b[0;32m    880\u001b[0m             'args': converted_args})['value']\n",
      "\u001b[1;32m~\\anaconda3\\lib\\site-packages\\selenium\\webdriver\\remote\\webdriver.py\u001b[0m in \u001b[0;36mexecute\u001b[1;34m(self, driver_command, params)\u001b[0m\n\u001b[0;32m    422\u001b[0m         \u001b[0mresponse\u001b[0m \u001b[1;33m=\u001b[0m \u001b[0mself\u001b[0m\u001b[1;33m.\u001b[0m\u001b[0mcommand_executor\u001b[0m\u001b[1;33m.\u001b[0m\u001b[0mexecute\u001b[0m\u001b[1;33m(\u001b[0m\u001b[0mdriver_command\u001b[0m\u001b[1;33m,\u001b[0m \u001b[0mparams\u001b[0m\u001b[1;33m)\u001b[0m\u001b[1;33m\u001b[0m\u001b[1;33m\u001b[0m\u001b[0m\n\u001b[0;32m    423\u001b[0m         \u001b[1;32mif\u001b[0m \u001b[0mresponse\u001b[0m\u001b[1;33m:\u001b[0m\u001b[1;33m\u001b[0m\u001b[1;33m\u001b[0m\u001b[0m\n\u001b[1;32m--> 424\u001b[1;33m             \u001b[0mself\u001b[0m\u001b[1;33m.\u001b[0m\u001b[0merror_handler\u001b[0m\u001b[1;33m.\u001b[0m\u001b[0mcheck_response\u001b[0m\u001b[1;33m(\u001b[0m\u001b[0mresponse\u001b[0m\u001b[1;33m)\u001b[0m\u001b[1;33m\u001b[0m\u001b[1;33m\u001b[0m\u001b[0m\n\u001b[0m\u001b[0;32m    425\u001b[0m             response['value'] = self._unwrap_value(\n\u001b[0;32m    426\u001b[0m                 response.get('value', None))\n",
      "\u001b[1;32m~\\anaconda3\\lib\\site-packages\\selenium\\webdriver\\remote\\errorhandler.py\u001b[0m in \u001b[0;36mcheck_response\u001b[1;34m(self, response)\u001b[0m\n\u001b[0;32m    245\u001b[0m                 \u001b[0malert_text\u001b[0m \u001b[1;33m=\u001b[0m \u001b[0mvalue\u001b[0m\u001b[1;33m[\u001b[0m\u001b[1;34m'alert'\u001b[0m\u001b[1;33m]\u001b[0m\u001b[1;33m.\u001b[0m\u001b[0mget\u001b[0m\u001b[1;33m(\u001b[0m\u001b[1;34m'text'\u001b[0m\u001b[1;33m)\u001b[0m\u001b[1;33m\u001b[0m\u001b[1;33m\u001b[0m\u001b[0m\n\u001b[0;32m    246\u001b[0m             \u001b[1;32mraise\u001b[0m \u001b[0mexception_class\u001b[0m\u001b[1;33m(\u001b[0m\u001b[0mmessage\u001b[0m\u001b[1;33m,\u001b[0m \u001b[0mscreen\u001b[0m\u001b[1;33m,\u001b[0m \u001b[0mstacktrace\u001b[0m\u001b[1;33m,\u001b[0m \u001b[0malert_text\u001b[0m\u001b[1;33m)\u001b[0m  \u001b[1;31m# type: ignore[call-arg]  # mypy is not smart enough here\u001b[0m\u001b[1;33m\u001b[0m\u001b[1;33m\u001b[0m\u001b[0m\n\u001b[1;32m--> 247\u001b[1;33m         \u001b[1;32mraise\u001b[0m \u001b[0mexception_class\u001b[0m\u001b[1;33m(\u001b[0m\u001b[0mmessage\u001b[0m\u001b[1;33m,\u001b[0m \u001b[0mscreen\u001b[0m\u001b[1;33m,\u001b[0m \u001b[0mstacktrace\u001b[0m\u001b[1;33m)\u001b[0m\u001b[1;33m\u001b[0m\u001b[1;33m\u001b[0m\u001b[0m\n\u001b[0m\u001b[0;32m    248\u001b[0m \u001b[1;33m\u001b[0m\u001b[0m\n\u001b[0;32m    249\u001b[0m     \u001b[1;32mdef\u001b[0m \u001b[0m_value_or_default\u001b[0m\u001b[1;33m(\u001b[0m\u001b[0mself\u001b[0m\u001b[1;33m,\u001b[0m \u001b[0mobj\u001b[0m\u001b[1;33m:\u001b[0m \u001b[0mMapping\u001b[0m\u001b[1;33m[\u001b[0m\u001b[0m_KT\u001b[0m\u001b[1;33m,\u001b[0m \u001b[0m_VT\u001b[0m\u001b[1;33m]\u001b[0m\u001b[1;33m,\u001b[0m \u001b[0mkey\u001b[0m\u001b[1;33m:\u001b[0m \u001b[0m_KT\u001b[0m\u001b[1;33m,\u001b[0m \u001b[0mdefault\u001b[0m\u001b[1;33m:\u001b[0m \u001b[0m_VT\u001b[0m\u001b[1;33m)\u001b[0m \u001b[1;33m->\u001b[0m \u001b[0m_VT\u001b[0m\u001b[1;33m:\u001b[0m\u001b[1;33m\u001b[0m\u001b[1;33m\u001b[0m\u001b[0m\n",
      "\u001b[1;31mWebDriverException\u001b[0m: Message: chrome not reachable\n  (Session info: chrome=99.0.4844.84)\nStacktrace:\nBacktrace:\n\tOrdinal0 [0x00759943+2595139]\n\tOrdinal0 [0x006EC9F1+2148849]\n\tOrdinal0 [0x005E43F0+1065968]\n\tOrdinal0 [0x005D87C2+1017794]\n\tOrdinal0 [0x005D8FF8+1019896]\n\tOrdinal0 [0x005DA892+1026194]\n\tOrdinal0 [0x005D4219+999961]\n\tOrdinal0 [0x005E5860+1071200]\n\tOrdinal0 [0x0063B2D2+1422034]\n\tOrdinal0 [0x0062B806+1357830]\n\tOrdinal0 [0x00606086+1204358]\n\tOrdinal0 [0x00606F96+1208214]\n\tGetHandleVerifier [0x008FB232+1658114]\n\tGetHandleVerifier [0x009B312C+2411516]\n\tGetHandleVerifier [0x007EF261+560433]\n\tGetHandleVerifier [0x007EE366+556598]\n\tOrdinal0 [0x006F286B+2173035]\n\tOrdinal0 [0x006F75F8+2192888]\n\tOrdinal0 [0x006F76E5+2193125]\n\tOrdinal0 [0x007011FC+2232828]\n\tBaseThreadInitThunk [0x7623FA29+25]\n\tRtlGetAppContainerNamedObjectPath [0x771E7A7E+286]\n\tRtlGetAppContainerNamedObjectPath [0x771E7A4E+238]\n"
     ]
    }
   ],
   "source": [
    "#urlfine = \"https://ocw.mit.edu/courses/wgs-s10-history-of-women-in-science-and-engineering-fall-2017/\"\n",
    "url = 'https://ocw.mit.edu/search/?s=department_course_numbers.sort_coursenum'\n",
    "#url = 'https://ocw.mit.edu/search'\n",
    "fineurl = 'https://ocw.mit.edu/courses/1-124j-foundations-of-software-engineering-fall-2000/'\n",
    "PATH = './driver/chromedriver.exe'\n",
    "driver = webdriver.Chrome(PATH)\n",
    "driver.get(url)\n",
    "c = 0\n",
    "#CONFRONTO HREF\n",
    "html = driver.page_source\n",
    "oldlinks=set({})\n",
    "fine=False\n",
    "while not fine:\n",
    "    links = set(bs4.BeautifulSoup(html, 'html.parser').find_all(\"div\", {\"class\" : \"lr-row course-title\"}))\n",
    "    links = links.difference(oldlinks)\n",
    "    for s in links:\n",
    "        for s1 in s.find_all(\"a\"):\n",
    "            a = \"https://ocw.mit.edu\" + s1.attrs[\"href\"]\n",
    "            c+=1\n",
    "            fine = s1.attrs[\"href\"] in fineurl\n",
    "            if fine:\n",
    "                print(\"PORCODDIO\")\n",
    "                break\n",
    "            print(c)\n",
    "        if fine:\n",
    "            break\n",
    "    driver.execute_script(\"window.scrollTo(0,document.body.scrollHeight)\")\n",
    "    oldlinks=oldlinks.union(links)\n",
    "print(len(oldlinks))"
   ]
  },
  {
   "cell_type": "code",
   "execution_count": null,
   "id": "5a397133-a98f-4d61-b6db-8b05f7b605f6",
   "metadata": {},
   "outputs": [],
   "source": [
    "set1={}\n",
    "set2={3,4,5,6}\n",
    "set2.difference(set1)"
   ]
  },
  {
   "cell_type": "code",
   "execution_count": 12,
   "id": "8e4765f8-4af1-480f-b094-060907ffb29b",
   "metadata": {},
   "outputs": [
    {
     "data": {
      "text/plain": [
       "['__and__',\n",
       " '__class__',\n",
       " '__class_getitem__',\n",
       " '__contains__',\n",
       " '__delattr__',\n",
       " '__dir__',\n",
       " '__doc__',\n",
       " '__eq__',\n",
       " '__format__',\n",
       " '__ge__',\n",
       " '__getattribute__',\n",
       " '__gt__',\n",
       " '__hash__',\n",
       " '__iand__',\n",
       " '__init__',\n",
       " '__init_subclass__',\n",
       " '__ior__',\n",
       " '__isub__',\n",
       " '__iter__',\n",
       " '__ixor__',\n",
       " '__le__',\n",
       " '__len__',\n",
       " '__lt__',\n",
       " '__ne__',\n",
       " '__new__',\n",
       " '__or__',\n",
       " '__rand__',\n",
       " '__reduce__',\n",
       " '__reduce_ex__',\n",
       " '__repr__',\n",
       " '__ror__',\n",
       " '__rsub__',\n",
       " '__rxor__',\n",
       " '__setattr__',\n",
       " '__sizeof__',\n",
       " '__str__',\n",
       " '__sub__',\n",
       " '__subclasshook__',\n",
       " '__xor__',\n",
       " 'add',\n",
       " 'clear',\n",
       " 'copy',\n",
       " 'difference',\n",
       " 'difference_update',\n",
       " 'discard',\n",
       " 'intersection',\n",
       " 'intersection_update',\n",
       " 'isdisjoint',\n",
       " 'issubset',\n",
       " 'issuperset',\n",
       " 'pop',\n",
       " 'remove',\n",
       " 'symmetric_difference',\n",
       " 'symmetric_difference_update',\n",
       " 'union',\n",
       " 'update']"
      ]
     },
     "execution_count": 12,
     "metadata": {},
     "output_type": "execute_result"
    }
   ],
   "source": [
    "dir(set)"
   ]
  },
  {
   "cell_type": "code",
   "execution_count": null,
   "id": "407f5e8e-de1f-484a-b98b-fcdd1fa4c4b7",
   "metadata": {},
   "outputs": [],
   "source": []
  }
 ],
 "metadata": {
  "kernelspec": {
   "display_name": "Python 3 (ipykernel)",
   "language": "python",
   "name": "python3"
  },
  "language_info": {
   "codemirror_mode": {
    "name": "ipython",
    "version": 3
   },
   "file_extension": ".py",
   "mimetype": "text/x-python",
   "name": "python",
   "nbconvert_exporter": "python",
   "pygments_lexer": "ipython3",
   "version": "3.9.7"
  }
 },
 "nbformat": 4,
 "nbformat_minor": 5
}
